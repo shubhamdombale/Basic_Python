{
 "cells": [
  {
   "cell_type": "markdown",
   "metadata": {},
   "source": [
    "<ol>\n",
    "<li>Experiment with multiplying strings or lists with integers and see what happens. Having seen that ;create a variable    which holds value ‘xyzxyzxyzxyzxyzxyzxyzxyzxyzxyz’</li>\n",
    "   \n",
    "<br></br>\n",
    "<li>Using list comprehension ,list related functions or otherwise, create following list:\n",
    "<br></br>\n",
    "   [[1, 2, 3, 4, 5, 6, 7], [1, 4, 9, 16, 25, 36, 49], [1, 8, 27, 64, 125, 216,343]]</li>\n",
    "\n",
    "\n",
    "<br></br>\n",
    "<li>Write a function which takes input as list and returns a list which contains a sequence of 10 equally spaced numbers between min and max of the string if minimum and maximum value of lists is same then it returns a list with 10 zeroes.\n",
    "    <br></br>\n",
    "   example:\n",
    "   <br></br>\n",
    "   input list : [20, 2, 6, 7, 10]\n",
    "   <br></br>\n",
    "   output list : [2,4,6,8,10,12,14,16,18,20]\n",
    "</li>\n",
    "<br></br>\n",
    "<li>Show by example how to sort a dictionary by its values</li>\n",
    "<br></br>\n",
    "<li>Write a function which takes input 3 dictionaries and returns a new dictionary which has all key value pairs from those three dictionaries\n",
    "</li>\n",
    "<br></br>\n",
    "<li>Write a function which takes input a string and returns reversed string example\n",
    "<br></br>\n",
    "   input : “string”\n",
    "  <br></br> \n",
    "   output : “gnirts”\n",
    "    \n",
    "</li>\n",
    "<br></br>\n",
    "<li>Consider this dictionary of addresses :\n",
    "<br></br>\n",
    "   {“home” : [“Hyderabad”,“Lingampally”,“Ph:1234567890”],\n",
    "<br></br>\n",
    "   “office”:[“Maharashtra”,“Mumbai”,“Ghatkopar”,“Ph : 5432167809”,“Pin :400043”],\n",
    "<br></br>\n",
    "   “OOI” : [“Singapore”,“Ph : 09876345”]}\n",
    "<br></br>\n",
    "   Write a program to extract phone numbers for each location\n",
    "</li>\n",
    "<br></br>\n",
    "<li>Write a Python function to find the greatest common divisor (gcd) of two integers.</li>\n",
    "<br></br>\n",
    "<li>Write a function which takes input n and q and returns sum of qth powers of first n natural numbers</li>\n",
    "<br></br>\n",
    "<li>Find out all numbers between 1 to 100 which are divisible by either 3 or 5 but not by both.[Hint : use sets]</li>\n",
    "<br></br>\n",
    "<li>Write a function which takes input n and produces first n elements of a fibonacci series</li>\n",
    "\n",
    "</ol>\n"
   ]
  },
  {
   "cell_type": "markdown",
   "metadata": {},
   "source": [
    "Prepared by: Riya Agrawal and Lalit Sachan"
   ]
  },
  {
   "cell_type": "code",
   "execution_count": 154,
   "metadata": {},
   "outputs": [
    {
     "data": {
      "text/plain": [
       "[1, 2, 3, 4, 5, 6, 7]"
      ]
     },
     "execution_count": 154,
     "metadata": {},
     "output_type": "execute_result"
    }
   ],
   "source": [
    "x=[1,2,3,4,5,6,7]\n",
    "x"
   ]
  },
  {
   "cell_type": "code",
   "execution_count": 155,
   "metadata": {},
   "outputs": [
    {
     "name": "stdout",
     "output_type": "stream",
     "text": [
      "[[1, 2, 3, 4, 5, 6, 7], [1, 4, 9, 16, 25, 36, 49], [1, 8, 27, 64, 125, 216, 343]]\n"
     ]
    }
   ],
   "source": [
    "square=[]\n",
    "cube=[]\n",
    "t=[]\n",
    "\n",
    "for num in x:\n",
    "    y=num**2\n",
    "    square.append(y)\n",
    "\n",
    "for num in x:\n",
    "    y=num**3\n",
    "    cube.append(y)\n",
    "    \n",
    "t=[x, square, cube]\n",
    "print(t)"
   ]
  },
  {
   "cell_type": "code",
   "execution_count": 150,
   "metadata": {},
   "outputs": [
    {
     "data": {
      "text/plain": [
       "[20, 2, 6, 7, 10]"
      ]
     },
     "execution_count": 150,
     "metadata": {},
     "output_type": "execute_result"
    }
   ],
   "source": [
    "x=[20, 2, 6, 7, 10]\n",
    "x"
   ]
  },
  {
   "cell_type": "code",
   "execution_count": 151,
   "metadata": {},
   "outputs": [
    {
     "name": "stdout",
     "output_type": "stream",
     "text": [
      "2 20\n"
     ]
    }
   ],
   "source": [
    "x_min=x[0]\n",
    "x_max=x[0]\n",
    "\n",
    "for num in x:\n",
    "    if num > x_max:\n",
    "        x_max = num\n",
    "    if num < x_min:\n",
    "        x_min = num\n",
    "\n",
    "print(x_min,x_max)"
   ]
  },
  {
   "cell_type": "code",
   "execution_count": 156,
   "metadata": {},
   "outputs": [
    {
     "name": "stdout",
     "output_type": "stream",
     "text": [
      "[3, 5, 6, 9, 10, 12, 18, 20, 21, 24, 25, 27, 33, 35, 36, 39, 40, 42, 48, 50, 51, 54, 55, 57, 63, 65, 66, 69, 70, 72, 78, 80, 81, 84, 85, 87, 93, 95, 96, 99]\n"
     ]
    }
   ],
   "source": [
    "a=[]\n",
    "y=0\n",
    "\n",
    "while y<100:\n",
    "    if y%3==0 or y%5==0:\n",
    "        a.append(y)\n",
    "    if y%3==0 and y%5==0:\n",
    "        a.remove(y)\n",
    "    y +=1\n",
    "\n",
    "print(a)    "
   ]
  },
  {
   "cell_type": "code",
   "execution_count": 159,
   "metadata": {},
   "outputs": [],
   "source": [
    "def power_of(n,q):\n",
    "    a=0\n",
    "    i=0\n",
    "    \n",
    "    while i <= n:\n",
    "        y=i**q\n",
    "        a=a+y\n",
    "        i +=1\n",
    "    return(a)"
   ]
  },
  {
   "cell_type": "code",
   "execution_count": 160,
   "metadata": {},
   "outputs": [
    {
     "data": {
      "text/plain": [
       "55"
      ]
     },
     "execution_count": 160,
     "metadata": {},
     "output_type": "execute_result"
    }
   ],
   "source": [
    "power_of(5,2)"
   ]
  },
  {
   "cell_type": "code",
   "execution_count": 128,
   "metadata": {},
   "outputs": [],
   "source": [
    "def fibo_len(y):\n",
    "    x=[0,1]\n",
    "    while len(x) < y:\n",
    "        next_term = x[-2]+x[-1]\n",
    "        x.append(next_term)\n",
    "    return(x)"
   ]
  },
  {
   "cell_type": "code",
   "execution_count": 129,
   "metadata": {},
   "outputs": [
    {
     "data": {
      "text/plain": [
       "[0, 1, 1, 2, 3, 5, 8, 13, 21, 34]"
      ]
     },
     "execution_count": 129,
     "metadata": {},
     "output_type": "execute_result"
    }
   ],
   "source": [
    "fibo_len(10)"
   ]
  },
  {
   "cell_type": "code",
   "execution_count": 136,
   "metadata": {},
   "outputs": [],
   "source": [
    "def GCD(x,y):\n",
    "    a=[]\n",
    "    i=1\n",
    "    \n",
    "    while i<=x:\n",
    "        if x%i==0 and y%i==0:\n",
    "            a=i\n",
    "        i +=1\n",
    "    return(a)"
   ]
  },
  {
   "cell_type": "code",
   "execution_count": 145,
   "metadata": {},
   "outputs": [
    {
     "data": {
      "text/plain": [
       "2"
      ]
     },
     "execution_count": 145,
     "metadata": {},
     "output_type": "execute_result"
    }
   ],
   "source": [
    "GCD(2,6)"
   ]
  }
 ],
 "metadata": {
  "anaconda-cloud": {},
  "kernelspec": {
   "display_name": "Python 3 (ipykernel)",
   "language": "python",
   "name": "python3"
  },
  "language_info": {
   "codemirror_mode": {
    "name": "ipython",
    "version": 3
   },
   "file_extension": ".py",
   "mimetype": "text/x-python",
   "name": "python",
   "nbconvert_exporter": "python",
   "pygments_lexer": "ipython3",
   "version": "3.9.13"
  }
 },
 "nbformat": 4,
 "nbformat_minor": 1
}
