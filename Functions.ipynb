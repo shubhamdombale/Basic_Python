{
 "cells": [
  {
   "cell_type": "code",
   "execution_count": 14,
   "id": "8a9a2a2a",
   "metadata": {},
   "outputs": [],
   "source": [
    "import math as m"
   ]
  },
  {
   "cell_type": "code",
   "execution_count": 2,
   "id": "60975e87",
   "metadata": {},
   "outputs": [
    {
     "data": {
      "text/plain": [
       "3.1354942159291497"
      ]
     },
     "execution_count": 2,
     "metadata": {},
     "output_type": "execute_result"
    }
   ],
   "source": [
    "x= 23\n",
    "m.log(x)"
   ]
  },
  {
   "cell_type": "code",
   "execution_count": 3,
   "id": "0f687589",
   "metadata": {},
   "outputs": [
    {
     "data": {
      "text/plain": [
       "7"
      ]
     },
     "execution_count": 3,
     "metadata": {},
     "output_type": "execute_result"
    }
   ],
   "source": [
    "x='shubham'\n",
    "len(x)"
   ]
  },
  {
   "cell_type": "code",
   "execution_count": 7,
   "id": "1b29f39e",
   "metadata": {},
   "outputs": [
    {
     "data": {
      "text/plain": [
       "'m'"
      ]
     },
     "execution_count": 7,
     "metadata": {},
     "output_type": "execute_result"
    }
   ],
   "source": [
    "x[6]"
   ]
  },
  {
   "cell_type": "code",
   "execution_count": 8,
   "id": "931a9d04",
   "metadata": {},
   "outputs": [
    {
     "data": {
      "text/plain": [
       "'h'"
      ]
     },
     "execution_count": 8,
     "metadata": {},
     "output_type": "execute_result"
    }
   ],
   "source": [
    "x[-6]"
   ]
  },
  {
   "cell_type": "code",
   "execution_count": 9,
   "id": "12a497ab",
   "metadata": {},
   "outputs": [],
   "source": [
    "x=[2,3,4,5,6,7,9,-10,0,33,44,12]"
   ]
  },
  {
   "cell_type": "code",
   "execution_count": 10,
   "id": "3864af25",
   "metadata": {},
   "outputs": [
    {
     "data": {
      "text/plain": [
       "[2, 3, 4, 5, 6, 7, 9, -10, 0, 33, 44, 12]"
      ]
     },
     "execution_count": 10,
     "metadata": {},
     "output_type": "execute_result"
    }
   ],
   "source": [
    "x"
   ]
  },
  {
   "cell_type": "code",
   "execution_count": 12,
   "id": "76f57b54",
   "metadata": {},
   "outputs": [],
   "source": [
    "even_sqaures= [num**2 for num in x if num%2==0]\n"
   ]
  },
  {
   "cell_type": "code",
   "execution_count": 14,
   "id": "07b7156f",
   "metadata": {},
   "outputs": [
    {
     "data": {
      "text/plain": [
       "[4, 16, 36, 100, 0, 1936, 144]"
      ]
     },
     "execution_count": 14,
     "metadata": {},
     "output_type": "execute_result"
    }
   ],
   "source": [
    "even_sqaures"
   ]
  },
  {
   "cell_type": "code",
   "execution_count": 15,
   "id": "3d5b159b",
   "metadata": {},
   "outputs": [
    {
     "data": {
      "text/plain": [
       "[2, 3, 40, -9, 4, 8, 6, 30, 21]"
      ]
     },
     "execution_count": 15,
     "metadata": {},
     "output_type": "execute_result"
    }
   ],
   "source": [
    "x=[2,3,40,-9,4,8,6,30,21]\n",
    "x"
   ]
  },
  {
   "cell_type": "code",
   "execution_count": 23,
   "id": "0fa7eb05",
   "metadata": {},
   "outputs": [],
   "source": [
    "x_min=x[0]\n",
    "x_max=x[0]"
   ]
  },
  {
   "cell_type": "code",
   "execution_count": 30,
   "id": "166aa163",
   "metadata": {},
   "outputs": [
    {
     "name": "stdout",
     "output_type": "stream",
     "text": [
      "-9 40\n"
     ]
    }
   ],
   "source": [
    "for val in x:\n",
    "    if val<x_min:\n",
    "        x_min=val\n",
    "    if val>x_max:\n",
    "        x_max=val\n",
    "print(x_min, x_max)\n"
   ]
  },
  {
   "cell_type": "code",
   "execution_count": 42,
   "id": "e9fe8948",
   "metadata": {},
   "outputs": [],
   "source": [
    "def find_min_max(my_list):\n",
    "    x_min=my_list[0]\n",
    "    x_max=my_list[0]\n",
    "    \n",
    "    for val in my_list:\n",
    "        if val<x_min:\n",
    "            x_min=val\n",
    "        if val>x_max:\n",
    "            x_max=val\n",
    "    return(x_min,x_max)"
   ]
  },
  {
   "cell_type": "code",
   "execution_count": 43,
   "id": "e6675bcd",
   "metadata": {},
   "outputs": [
    {
     "data": {
      "text/plain": [
       "[34, 5, 6, 32, 45, 67, 89, 2, 4, 99, 23]"
      ]
     },
     "execution_count": 43,
     "metadata": {},
     "output_type": "execute_result"
    }
   ],
   "source": [
    "a=[34,5,6,32,45,67,89,2,4,99,23]\n",
    "a"
   ]
  },
  {
   "cell_type": "code",
   "execution_count": 44,
   "id": "4f37c406",
   "metadata": {},
   "outputs": [
    {
     "data": {
      "text/plain": [
       "(2, 99)"
      ]
     },
     "execution_count": 44,
     "metadata": {},
     "output_type": "execute_result"
    }
   ],
   "source": [
    "find_min_max(a)"
   ]
  },
  {
   "cell_type": "code",
   "execution_count": 45,
   "id": "844f60dc",
   "metadata": {},
   "outputs": [],
   "source": [
    "x1,y1=2,3\n",
    "x2,y2=5,7\n",
    "origin_x, origin_y=0,0"
   ]
  },
  {
   "cell_type": "code",
   "execution_count": 47,
   "id": "2c470cd6",
   "metadata": {},
   "outputs": [],
   "source": [
    "import math \n",
    "\n",
    "def dist_from_origin(x,y):\n",
    "    temp= (x-origin_x)**2+(y-origin_y)**2\n",
    "    dist=math.sqrt(temp)\n",
    "    return dist"
   ]
  },
  {
   "cell_type": "code",
   "execution_count": 12,
   "id": "60135230",
   "metadata": {},
   "outputs": [
    {
     "ename": "NameError",
     "evalue": "name 'dist_from_origin' is not defined",
     "output_type": "error",
     "traceback": [
      "\u001b[1;31m---------------------------------------------------------------------------\u001b[0m",
      "\u001b[1;31mNameError\u001b[0m                                 Traceback (most recent call last)",
      "\u001b[1;32m~\\AppData\\Local\\Temp\\ipykernel_18956\\2302811833.py\u001b[0m in \u001b[0;36m<module>\u001b[1;34m\u001b[0m\n\u001b[1;32m----> 1\u001b[1;33m \u001b[0mdist_from_origin\u001b[0m\u001b[1;33m(\u001b[0m\u001b[0mx2\u001b[0m\u001b[1;33m,\u001b[0m\u001b[0my2\u001b[0m\u001b[1;33m)\u001b[0m\u001b[1;33m\u001b[0m\u001b[1;33m\u001b[0m\u001b[0m\n\u001b[0m",
      "\u001b[1;31mNameError\u001b[0m: name 'dist_from_origin' is not defined"
     ]
    }
   ],
   "source": [
    "dist_from_origin(x2,y2)"
   ]
  },
  {
   "cell_type": "code",
   "execution_count": 52,
   "id": "6bff1d7d",
   "metadata": {},
   "outputs": [
    {
     "data": {
      "text/plain": [
       "3.605551275463989"
      ]
     },
     "execution_count": 52,
     "metadata": {},
     "output_type": "execute_result"
    }
   ],
   "source": [
    "dist_from_origin(x1,y1)"
   ]
  },
  {
   "cell_type": "code",
   "execution_count": 53,
   "id": "4bfe784d",
   "metadata": {},
   "outputs": [],
   "source": [
    "def dist_two_points(x_a,y_a,x_b,y_b):\n",
    "    temp= (x_a-x_b)**2+(y_a-y_b)**2\n",
    "    dist=math.sqrt(temp)\n",
    "    return dist"
   ]
  },
  {
   "cell_type": "code",
   "execution_count": 54,
   "id": "75d423dc",
   "metadata": {},
   "outputs": [
    {
     "data": {
      "text/plain": [
       "5.0"
      ]
     },
     "execution_count": 54,
     "metadata": {},
     "output_type": "execute_result"
    }
   ],
   "source": [
    "dist_two_points(x1,y1,x2,y2)"
   ]
  },
  {
   "cell_type": "code",
   "execution_count": 15,
   "id": "8f621832",
   "metadata": {},
   "outputs": [],
   "source": [
    "class Point(object):  \n",
    "    \n",
    "    def __init__(self,x,y):\n",
    "            self.x=x\n",
    "            self.y=y\n",
    "   \n",
    "    def dist_two_points(self,other):\n",
    "        temp= (self.x-other.x)**2+(self.y-other.y)**2\n",
    "        return(m.sqrt(temp))\n",
    "    \n",
    "    def dist_from_origin(self):\n",
    "        temp= (self.x)**2+(self.y)**2\n",
    "        return(m.sqrt(temp))"
   ]
  },
  {
   "cell_type": "code",
   "execution_count": 3,
   "id": "a82662c0",
   "metadata": {},
   "outputs": [],
   "source": [
    "a=Point(2,3)\n",
    "b=Point(5,7)"
   ]
  },
  {
   "cell_type": "code",
   "execution_count": 9,
   "id": "a5a9db60",
   "metadata": {},
   "outputs": [
    {
     "data": {
      "text/plain": [
       "(2, 3)"
      ]
     },
     "execution_count": 9,
     "metadata": {},
     "output_type": "execute_result"
    }
   ],
   "source": [
    "a.x,a.y"
   ]
  },
  {
   "cell_type": "code",
   "execution_count": 10,
   "id": "e1eca3d0",
   "metadata": {},
   "outputs": [
    {
     "data": {
      "text/plain": [
       "(5, 7)"
      ]
     },
     "execution_count": 10,
     "metadata": {},
     "output_type": "execute_result"
    }
   ],
   "source": [
    "b.x,b.y"
   ]
  },
  {
   "cell_type": "code",
   "execution_count": 16,
   "id": "f9e6c8c1",
   "metadata": {},
   "outputs": [
    {
     "data": {
      "text/plain": [
       "5.0"
      ]
     },
     "execution_count": 16,
     "metadata": {},
     "output_type": "execute_result"
    }
   ],
   "source": [
    " Point.dist_two_points(a,b)"
   ]
  },
  {
   "cell_type": "code",
   "execution_count": 17,
   "id": "c563b2f7",
   "metadata": {},
   "outputs": [
    {
     "data": {
      "text/plain": [
       "3.605551275463989"
      ]
     },
     "execution_count": 17,
     "metadata": {},
     "output_type": "execute_result"
    }
   ],
   "source": [
    " Point.dist_from_origin(a)"
   ]
  },
  {
   "cell_type": "code",
   "execution_count": 19,
   "id": "fd84ee11",
   "metadata": {},
   "outputs": [
    {
     "ename": "AttributeError",
     "evalue": "'Point' object has no attribute 'dist_two_points'",
     "output_type": "error",
     "traceback": [
      "\u001b[1;31m---------------------------------------------------------------------------\u001b[0m",
      "\u001b[1;31mAttributeError\u001b[0m                            Traceback (most recent call last)",
      "\u001b[1;32m~\\AppData\\Local\\Temp\\ipykernel_18956\\2056771576.py\u001b[0m in \u001b[0;36m<module>\u001b[1;34m\u001b[0m\n\u001b[1;32m----> 1\u001b[1;33m \u001b[0ma\u001b[0m\u001b[1;33m.\u001b[0m\u001b[0mdist_two_points\u001b[0m\u001b[1;33m(\u001b[0m\u001b[0mb\u001b[0m\u001b[1;33m)\u001b[0m\u001b[1;33m\u001b[0m\u001b[1;33m\u001b[0m\u001b[0m\n\u001b[0m",
      "\u001b[1;31mAttributeError\u001b[0m: 'Point' object has no attribute 'dist_two_points'"
     ]
    }
   ],
   "source": [
    "a.dist_two_points(b)"
   ]
  },
  {
   "cell_type": "code",
   "execution_count": null,
   "id": "39875e33",
   "metadata": {},
   "outputs": [],
   "source": []
  }
 ],
 "metadata": {
  "kernelspec": {
   "display_name": "Python 3 (ipykernel)",
   "language": "python",
   "name": "python3"
  },
  "language_info": {
   "codemirror_mode": {
    "name": "ipython",
    "version": 3
   },
   "file_extension": ".py",
   "mimetype": "text/x-python",
   "name": "python",
   "nbconvert_exporter": "python",
   "pygments_lexer": "ipython3",
   "version": "3.9.13"
  }
 },
 "nbformat": 4,
 "nbformat_minor": 5
}
