{
 "cells": [
  {
   "cell_type": "code",
   "execution_count": 12,
   "id": "c5c82165",
   "metadata": {},
   "outputs": [],
   "source": [
    "import warnings\n",
    "import numpy as np\n",
    "import pandas as pd\n",
    "from sklearn.pipeline import Pipeline,FeatureUnion\n",
    "from sklearn.base import BaseEstimator, TransformerMixin\n"
   ]
  },
  {
   "cell_type": "code",
   "execution_count": 3,
   "id": "9b5c9f4f",
   "metadata": {},
   "outputs": [],
   "source": [
    "#impute missing values with median\n",
    "class DataFrameImputer(BaseEstimator, TransformerMixin):\n",
    "    def __init__(self):\n",
    "        self.impute_dict={}\n",
    "        self.feature_name=[]\n",
    "    \n",
    "    def fit(self,x,y=None):\n",
    "        for col in x.columns:\n",
    "            if x[col].dtype=='O':\n",
    "                self.impute_dict[col]='missing'\n",
    "            else:\n",
    "                self.impute_dict[col]=x[col].mean()\n",
    "        self.feature_name=x.columns\n",
    "        return self\n",
    "    def transform(self,x):\n",
    "        x=x.fillna(self.impute_dict)\n",
    "        return x\n",
    "    def get_feature_names(self):\n",
    "        return self.feature_names"
   ]
  },
  {
   "cell_type": "code",
   "execution_count": 3,
   "id": "720a2b2f",
   "metadata": {},
   "outputs": [],
   "source": [
    "d=pd.DataFrame ({'age': [20,15, np.nan, 30,35,40],\n",
    "                'city': ['delhi' ,np.nan, 'pune', 'delhi', 'hyderabad','agra']})"
   ]
  },
  {
   "cell_type": "code",
   "execution_count": 4,
   "id": "a1845360",
   "metadata": {},
   "outputs": [
    {
     "data": {
      "text/html": [
       "<div>\n",
       "<style scoped>\n",
       "    .dataframe tbody tr th:only-of-type {\n",
       "        vertical-align: middle;\n",
       "    }\n",
       "\n",
       "    .dataframe tbody tr th {\n",
       "        vertical-align: top;\n",
       "    }\n",
       "\n",
       "    .dataframe thead th {\n",
       "        text-align: right;\n",
       "    }\n",
       "</style>\n",
       "<table border=\"1\" class=\"dataframe\">\n",
       "  <thead>\n",
       "    <tr style=\"text-align: right;\">\n",
       "      <th></th>\n",
       "      <th>age</th>\n",
       "      <th>city</th>\n",
       "    </tr>\n",
       "  </thead>\n",
       "  <tbody>\n",
       "    <tr>\n",
       "      <th>0</th>\n",
       "      <td>20.0</td>\n",
       "      <td>delhi</td>\n",
       "    </tr>\n",
       "    <tr>\n",
       "      <th>1</th>\n",
       "      <td>15.0</td>\n",
       "      <td>NaN</td>\n",
       "    </tr>\n",
       "    <tr>\n",
       "      <th>2</th>\n",
       "      <td>NaN</td>\n",
       "      <td>pune</td>\n",
       "    </tr>\n",
       "    <tr>\n",
       "      <th>3</th>\n",
       "      <td>30.0</td>\n",
       "      <td>delhi</td>\n",
       "    </tr>\n",
       "    <tr>\n",
       "      <th>4</th>\n",
       "      <td>35.0</td>\n",
       "      <td>hyderabad</td>\n",
       "    </tr>\n",
       "    <tr>\n",
       "      <th>5</th>\n",
       "      <td>40.0</td>\n",
       "      <td>agra</td>\n",
       "    </tr>\n",
       "  </tbody>\n",
       "</table>\n",
       "</div>"
      ],
      "text/plain": [
       "    age       city\n",
       "0  20.0      delhi\n",
       "1  15.0        NaN\n",
       "2   NaN       pune\n",
       "3  30.0      delhi\n",
       "4  35.0  hyderabad\n",
       "5  40.0       agra"
      ]
     },
     "execution_count": 4,
     "metadata": {},
     "output_type": "execute_result"
    }
   ],
   "source": [
    "d"
   ]
  },
  {
   "cell_type": "code",
   "execution_count": 5,
   "id": "0cf4ff08",
   "metadata": {},
   "outputs": [],
   "source": [
    "a=DataFrameImputer()"
   ]
  },
  {
   "cell_type": "code",
   "execution_count": 6,
   "id": "d9b397ef",
   "metadata": {},
   "outputs": [
    {
     "data": {
      "text/plain": [
       "DataFrameImputer()"
      ]
     },
     "execution_count": 6,
     "metadata": {},
     "output_type": "execute_result"
    }
   ],
   "source": [
    "a.fit(d)"
   ]
  },
  {
   "cell_type": "code",
   "execution_count": 7,
   "id": "3f744d94",
   "metadata": {},
   "outputs": [
    {
     "data": {
      "text/html": [
       "<div>\n",
       "<style scoped>\n",
       "    .dataframe tbody tr th:only-of-type {\n",
       "        vertical-align: middle;\n",
       "    }\n",
       "\n",
       "    .dataframe tbody tr th {\n",
       "        vertical-align: top;\n",
       "    }\n",
       "\n",
       "    .dataframe thead th {\n",
       "        text-align: right;\n",
       "    }\n",
       "</style>\n",
       "<table border=\"1\" class=\"dataframe\">\n",
       "  <thead>\n",
       "    <tr style=\"text-align: right;\">\n",
       "      <th></th>\n",
       "      <th>age</th>\n",
       "      <th>city</th>\n",
       "    </tr>\n",
       "  </thead>\n",
       "  <tbody>\n",
       "    <tr>\n",
       "      <th>0</th>\n",
       "      <td>20.0</td>\n",
       "      <td>delhi</td>\n",
       "    </tr>\n",
       "    <tr>\n",
       "      <th>1</th>\n",
       "      <td>15.0</td>\n",
       "      <td>missing</td>\n",
       "    </tr>\n",
       "    <tr>\n",
       "      <th>2</th>\n",
       "      <td>28.0</td>\n",
       "      <td>pune</td>\n",
       "    </tr>\n",
       "    <tr>\n",
       "      <th>3</th>\n",
       "      <td>30.0</td>\n",
       "      <td>delhi</td>\n",
       "    </tr>\n",
       "    <tr>\n",
       "      <th>4</th>\n",
       "      <td>35.0</td>\n",
       "      <td>hyderabad</td>\n",
       "    </tr>\n",
       "    <tr>\n",
       "      <th>5</th>\n",
       "      <td>40.0</td>\n",
       "      <td>agra</td>\n",
       "    </tr>\n",
       "  </tbody>\n",
       "</table>\n",
       "</div>"
      ],
      "text/plain": [
       "    age       city\n",
       "0  20.0      delhi\n",
       "1  15.0    missing\n",
       "2  28.0       pune\n",
       "3  30.0      delhi\n",
       "4  35.0  hyderabad\n",
       "5  40.0       agra"
      ]
     },
     "execution_count": 7,
     "metadata": {},
     "output_type": "execute_result"
    }
   ],
   "source": [
    "a.transform(d)"
   ]
  },
  {
   "cell_type": "code",
   "execution_count": 19,
   "id": "962ec294",
   "metadata": {},
   "outputs": [],
   "source": [
    "test=pd.DataFrame ({'age': [20,19, np.nan],\n",
    "                'city': ['delhi' ,np.nan, 'latur']})"
   ]
  },
  {
   "cell_type": "code",
   "execution_count": 20,
   "id": "04ba9576",
   "metadata": {},
   "outputs": [
    {
     "data": {
      "text/html": [
       "<div>\n",
       "<style scoped>\n",
       "    .dataframe tbody tr th:only-of-type {\n",
       "        vertical-align: middle;\n",
       "    }\n",
       "\n",
       "    .dataframe tbody tr th {\n",
       "        vertical-align: top;\n",
       "    }\n",
       "\n",
       "    .dataframe thead th {\n",
       "        text-align: right;\n",
       "    }\n",
       "</style>\n",
       "<table border=\"1\" class=\"dataframe\">\n",
       "  <thead>\n",
       "    <tr style=\"text-align: right;\">\n",
       "      <th></th>\n",
       "      <th>age</th>\n",
       "      <th>city</th>\n",
       "    </tr>\n",
       "  </thead>\n",
       "  <tbody>\n",
       "    <tr>\n",
       "      <th>0</th>\n",
       "      <td>20.0</td>\n",
       "      <td>delhi</td>\n",
       "    </tr>\n",
       "    <tr>\n",
       "      <th>1</th>\n",
       "      <td>19.0</td>\n",
       "      <td>missing</td>\n",
       "    </tr>\n",
       "    <tr>\n",
       "      <th>2</th>\n",
       "      <td>28.0</td>\n",
       "      <td>latur</td>\n",
       "    </tr>\n",
       "  </tbody>\n",
       "</table>\n",
       "</div>"
      ],
      "text/plain": [
       "    age     city\n",
       "0  20.0    delhi\n",
       "1  19.0  missing\n",
       "2  28.0    latur"
      ]
     },
     "execution_count": 20,
     "metadata": {},
     "output_type": "execute_result"
    }
   ],
   "source": [
    "a.transform(test)"
   ]
  },
  {
   "cell_type": "code",
   "execution_count": 4,
   "id": "dc77c782",
   "metadata": {},
   "outputs": [],
   "source": [
    "class VarSelector(BaseEstimator, TransformerMixin):\n",
    "    def __init__(self, var_names):\n",
    "        self.feature_names=var_names\n",
    "    def fit(self, x,y=None):\n",
    "        return self\n",
    "    def transform(self,X):\n",
    "        return X[self.feature_names]\n",
    "    def get_feature_names(self):\n",
    "        return self.feature_names"
   ]
  },
  {
   "cell_type": "code",
   "execution_count": 5,
   "id": "743aaab2",
   "metadata": {},
   "outputs": [],
   "source": [
    "class convert_to_numeric(BaseEstimator, TransformerMixin):\n",
    "    def __init__(self):\n",
    "        self.feature_names=[]\n",
    "    def fit(self, x,y=None):\n",
    "        self.feature_names=x.columns\n",
    "        return self\n",
    "    def transform(self,X):\n",
    "        for col in X.columns:\n",
    "            X[col]=pd.to_numeric(X[col],errors='coerce')\n",
    "        return X\n",
    "    def get_feature_names(self):\n",
    "        return self.feature_names"
   ]
  },
  {
   "cell_type": "code",
   "execution_count": 6,
   "id": "a8260f03",
   "metadata": {},
   "outputs": [],
   "source": [
    "class custom_fico(BaseEstimator, TransformerMixin):\n",
    "    def __init__(self, var_names):\n",
    "        self.feature_names=var_names['fico']\n",
    "    def fit(self, x,y=None):\n",
    "        return self\n",
    "    def transform(self,X):\n",
    "        k=X['FICO.Range'].str.split('-',expand=True).astype(float)\n",
    "        fico=0.5*(k[0]+k[1])\n",
    "        return pd.DataFrame({'fico':fico})\n",
    "    def get_feature_names(self):\n",
    "        return self.feature_names"
   ]
  },
  {
   "cell_type": "code",
   "execution_count": 7,
   "id": "84e0ace1",
   "metadata": {},
   "outputs": [],
   "source": [
    "class string_clean(BaseEstimator, TransformerMixin):\n",
    "    def __init__(self, replace_it='', reaplce_with=''):\n",
    "        self.replace_it=replace_it\n",
    "        self.reaplce_with=reaplce_with\n",
    "        self.feature_names=[]\n",
    "    def fit(self, x,y=None):\n",
    "        self.feature_names=x.columns\n",
    "        return self\n",
    "    def transform(self,X):\n",
    "        for col in X.columns:\n",
    "            X[col]=X[col].str.replace(self.replace_it, self.replace_with)\n",
    "        return X\n",
    "    def get_feature_names(self):\n",
    "        return self.feature_names"
   ]
  },
  {
   "cell_type": "code",
   "execution_count": 8,
   "id": "02647194",
   "metadata": {},
   "outputs": [],
   "source": [
    "class get_dummies_Pipe(BaseEstimator, TransformerMixin):\n",
    "    def __init__(self, freq_cutoff=0):\n",
    "        self.freq_cutoff=freq_cutoff\n",
    "        self.var_cat_dict={}\n",
    "        self.feature_names=[]\n",
    "    def fit(self, x,y=None):\n",
    "        data_cols=x.columns\n",
    "        for col in data_cols:\n",
    "            k=x[cols].value_counts()\n",
    "            if(k<=self.freq_cutoff).sum()==0:\n",
    "                cats=k.index[:-1]\n",
    "            else:\n",
    "                cats=k.index[k>self.freq_cutoff]\n",
    "            self.var_cat_dict[col]=cats\n",
    "        \n",
    "        for col in self.var_cat_dict.keys():\n",
    "            for cat in self.var_cat_dict[col]:\n",
    "                self.feature_names.append(col+'_'+cat)\n",
    "        return self\n",
    "    def transform(self,x,y=None):\n",
    "        dummy_data=x.copy()\n",
    "        for col in self.var_cat_dict.keys():\n",
    "            for cat in self.var_cat_dict[col]:\n",
    "                name=col+'_'+cat\n",
    "                dummy_data[name]=(dummy_data[col]==cat).astype(int)\n",
    "            del dummy_data[col]\n",
    "        return dummy_data\n",
    "    def get_feature_names(self):\n",
    "        return self.feature_names"
   ]
  },
  {
   "cell_type": "code",
   "execution_count": null,
   "id": "04fb48f1",
   "metadata": {},
   "outputs": [],
   "source": []
  }
 ],
 "metadata": {
  "kernelspec": {
   "display_name": "Python 3 (ipykernel)",
   "language": "python",
   "name": "python3"
  },
  "language_info": {
   "codemirror_mode": {
    "name": "ipython",
    "version": 3
   },
   "file_extension": ".py",
   "mimetype": "text/x-python",
   "name": "python",
   "nbconvert_exporter": "python",
   "pygments_lexer": "ipython3",
   "version": "3.9.13"
  }
 },
 "nbformat": 4,
 "nbformat_minor": 5
}
